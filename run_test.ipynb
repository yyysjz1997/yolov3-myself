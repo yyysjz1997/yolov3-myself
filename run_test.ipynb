{
 "cells": [
  {
   "cell_type": "markdown",
   "metadata": {},
   "source": [
    "## 尝试运行YOLOV3代码：train.py ，自己的训练集，VOC2007"
   ]
  },
  {
   "cell_type": "code",
   "execution_count": null,
   "metadata": {
    "scrolled": false
   },
   "outputs": [
    {
     "name": "stderr",
     "output_type": "stream",
     "text": [
      "/home/multiphase/anaconda3/lib/python3.6/site-packages/h5py/__init__.py:36: FutureWarning: Conversion of the second argument of issubdtype from `float` to `np.floating` is deprecated. In future, it will be treated as `np.float64 == np.dtype(float).type`.\n",
      "  from ._conv import register_converters as _register_converters\n",
      "Using TensorFlow backend.\n"
     ]
    },
    {
     "name": "stdout",
     "output_type": "stream",
     "text": [
      "Create YOLOv3 model with 9 anchors and 20 classes.\n",
      "Load weights logs/000/trained_weights.h5.\n",
      "Train on 4059 samples, val on 451 samples, with batch size 40.\n",
      "Epoch 1/300\n",
      "101/101 [==============================] - 113s 1s/step - loss: 16.0791 - val_loss: 15.8715\n",
      "Epoch 2/300\n",
      "101/101 [==============================] - 95s 941ms/step - loss: 15.9779 - val_loss: 17.4614\n",
      "Epoch 3/300\n",
      "101/101 [==============================] - 95s 942ms/step - loss: 15.8378 - val_loss: 16.9119\n",
      "Epoch 4/300\n",
      "101/101 [==============================] - 92s 915ms/step - loss: 15.7852 - val_loss: 17.6240\n",
      "Epoch 5/300\n",
      "101/101 [==============================] - 95s 944ms/step - loss: 15.7519 - val_loss: 17.3329\n",
      "Epoch 6/300\n",
      "100/101 [============================>.] - ETA: 0s - loss: 15.7757"
     ]
    }
   ],
   "source": [
    "%run train.py"
   ]
  },
  {
   "cell_type": "code",
   "execution_count": 1,
   "metadata": {},
   "outputs": [
    {
     "ename": "SyntaxError",
     "evalue": "invalid syntax (<ipython-input-1-9c505ed4a010>, line 1)",
     "output_type": "error",
     "traceback": [
      "\u001b[0;36m  File \u001b[0;32m\"<ipython-input-1-9c505ed4a010>\"\u001b[0;36m, line \u001b[0;32m1\u001b[0m\n\u001b[0;31m    git clone git@github.com:ivker/TensorFlow.git\u001b[0m\n\u001b[0m            ^\u001b[0m\n\u001b[0;31mSyntaxError\u001b[0m\u001b[0;31m:\u001b[0m invalid syntax\n"
     ]
    }
   ],
   "source": []
  }
 ],
 "metadata": {
  "kernelspec": {
   "display_name": "Python 3",
   "language": "python",
   "name": "python3"
  },
  "language_info": {
   "codemirror_mode": {
    "name": "ipython",
    "version": 3
   },
   "file_extension": ".py",
   "mimetype": "text/x-python",
   "name": "python",
   "nbconvert_exporter": "python",
   "pygments_lexer": "ipython3",
   "version": "3.6.8"
  }
 },
 "nbformat": 4,
 "nbformat_minor": 2
}
